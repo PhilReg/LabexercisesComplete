{
 "cells": [
  {
   "attachments": {},
   "cell_type": "markdown",
   "metadata": {},
   "source": [
    "## Assignment 01 - Exercise 1\n",
    "\n",
    "Implement a function linearThresholdUnit that takes a list of x-values and a list of wvalues,calculates the weighted sum and returns 1 if that sum is greater than or equal – otherwise 0."
   ]
  },
  {
   "cell_type": "code",
   "execution_count": null,
   "metadata": {},
   "outputs": [],
   "source": [
    "def linearThresholdUnit(x_values,w_values):\n",
    "    weightedsum = sum(x*w for x,w in zip(x_values,w_values))\n",
    "    if weightedsum > 0:\n",
    "        return 1\n",
    "    else:\n",
    "        return 0"
   ]
  },
  {
   "cell_type": "code",
   "execution_count": null,
   "metadata": {},
   "outputs": [],
   "source": [
    "x = [1,0,1]\n",
    "w=[2,-2,-1]\n",
    "print(linearThresholdUnit(x,w))"
   ]
  },
  {
   "attachments": {},
   "cell_type": "markdown",
   "metadata": {},
   "source": [
    "## Assignment 02 - Exercise 2\n",
    "\n",
    "Implement the spam detection classifier (slide 29 in ”Lecture 1 - Introduction”) in Python. You can do this by following the steps below:\n",
    "-Transfer the data set on slide 29 into an appropiate Python data structure\n",
    "-Implement the classifier on slide 29 that takes into account the three features “Occurences Bank”, “Occurences 1 000 000” and “Occurences Best regards”. For each input, the output should be either “True” or “False”. \n",
    "Hint: You may be able to reuse some of the code you already implemented in assignment 1.\n",
    "-Write Python to calculate the accuracy of the clasifier’s predictions.\n",
    "-Play around with different weights and see if you can further improve the accuracy."
   ]
  },
  {
   "cell_type": "code",
   "execution_count": 3,
   "metadata": {},
   "outputs": [
    {
     "name": "stdout",
     "output_type": "stream",
     "text": [
      "Value:1 --> Spam \n",
      " Correct\n",
      "Value:0 --> Spam \n",
      " Correct\n",
      "Value:-2 --> no Spam \n",
      " Correct\n",
      "Value:-3 --> no Spam \n",
      " Correct\n",
      "Value:-1 --> no Spam \n",
      " Correct\n",
      "The accuracy of the classifier is at 100.0%\n"
     ]
    }
   ],
   "source": [
    "datadic = {\"dataset1\":[1,0,1],\"dataset2\":[1,0,2],\"dataset3\":[1,2,0],\"dataset4\":[0,1,1],\"dataset5\":[0,0,1]}\n",
    "resultdic = {\"dataset1\":[\"True\"],\"dataset2\":[\"True\"],\"dataset3\":[\"False\"],\"dataset4\":[\"False\"],\"dataset5\":[\"False\"]}\n",
    "weights = [2,-2,-1]\n",
    "\n",
    "t=0\n",
    "f=0\n",
    "\n",
    "def relu_function(x, w):\n",
    "    relu = sum(xi * wi for xi, wi in zip(x, w))\n",
    "    return relu\n",
    "\n",
    "for key in datadic:\n",
    "    value= relu_function(datadic[key], weights)\n",
    "    result = resultdic[key][0]\n",
    "    if value >= 0 and result == \"True\":\n",
    "        print(f\"Value:{value} --> Spam \\n Correct\")\n",
    "        t+=1\n",
    "    elif value >= 0 and result == \"False\":\n",
    "        print(f\"Value:{value} --> Spam \\n False\")\n",
    "        f+=1\n",
    "    elif value <= 0 and result == \"False\":\n",
    "        print(f\"Value:{value} --> no Spam \\n Correct\")\n",
    "        t+=1\n",
    "    elif value <= 0 and result == \"True\":\n",
    "        print(f\"Value:{value} --> no Spam \\n False\")\n",
    "        f+=1\n",
    "\n",
    "accuracy = t/(t+f)*100\n",
    "print(f\"The accuracy of the classifier is at {accuracy}%\")"
   ]
  },
  {
   "attachments": {},
   "cell_type": "markdown",
   "metadata": {},
   "source": [
    "## Assignment 03 - Exercise 1\n",
    "Take another look at exercise 1 of assignment 2. In this exercise, your task was to implement the spam detection model from the lecture using Python. Since you are now familiar with NumPy, try to substitute as much of the pure Python code with improved NumPy code. Place special focus on lists."
   ]
  },
  {
   "cell_type": "code",
   "execution_count": null,
   "metadata": {},
   "outputs": [],
   "source": [
    "import numpy as np\n",
    "data = [[1,0,1],[1,0,2],[1,2,0],[0,1,1],[0,0,1]]\n",
    "weights = [2,-2,-1]\n",
    "labels = [True,True,False,False,False]\n",
    "\n",
    "sums = np.sum(np.multiply(data,weights),axis=1)\n",
    "results = sums >= 0\n",
    "matches = np.sum(results == labels)\n",
    "\n",
    "print(f\"Accuracy: {matches/len(data)*100}%\")"
   ]
  },
  {
   "attachments": {},
   "cell_type": "markdown",
   "metadata": {},
   "source": [
    "## Assignment 04 - Exercise 2\n",
    "Imagine you are a newspaper deliverer that encounters a number of dogs on your tour. Some of them (try to) bite, some of then only bark. The dogs are described by the following binary features: Heavy, Smelly, Big and Growling. Consider the following set of examples:\n",
    "| Heavy | Smelly | Big | Growling | Action |\n",
    "|----------|----------|----------|----------|----------|\n",
    "| No | No | No | No | Bark |\n",
    "| No | No | Yes | No | Bark |\n",
    "| Yes | Yes | No | Yes | Bark |\n",
    "| Yes | No | No | Yes | Bite |\n",
    "| No | Yes | Yes | No | Bite |\n",
    "| No | No | Yes | Yes | Bite |\n",
    "| No | No | No | Yes | Bite |\n",
    "| Yes | Yes | No | No | Bite |\n",
    "\n",
    "Round all values within this exercise back to 4 decimal places. Note that we’ve prepared the\n",
    "dataset as a NumPy array in dogtree.ipynb. You may use this notebook for your calculations or\n",
    "work out the answers manually – depending on your liking.\n",
    "\n",
    "a) What is the entropy of the target value ’Action’ in the whole dataset?\n",
    "\n",
    "b) Which attribute would the ID3 algorithm choose to use for the root of the tree? What is its\n",
    "information gain?\n",
    "\n",
    "c) Draw the full decision tree that would be learned for this data using ID3 without pruning.\n",
    "\n",
    "d) Suppose three new dogs appear in your round as listed in the table below. Classify them\n",
    "using the decision tree from the previous question. What is the accuracy of your tree on this\n",
    "test set?\n",
    "\n",
    "| Name | Heavy | Smelly | Big | Growling | Action |\n",
    "|----------|----------|----------|----------|----------|----------|\n",
    "| Buster | Yes | No | Yes | Yes | Bark |\n",
    "| Pluto | No | No | No | Yes | Bark |\n",
    "| Zeus | Yes | Yes | No | No | Bark |\n",
    "\n",
    "e) Repeat the steps of the previous four subtasks using the Gini coefficient as splitting criteria.\n",
    "Are there differences between the resulting trees and their performance on the above test\n",
    "set? Think about the reasons."
   ]
  }
 ],
 "metadata": {
  "kernelspec": {
   "display_name": "Python 3",
   "language": "python",
   "name": "python3"
  },
  "language_info": {
   "codemirror_mode": {
    "name": "ipython",
    "version": 3
   },
   "file_extension": ".py",
   "mimetype": "text/x-python",
   "name": "python",
   "nbconvert_exporter": "python",
   "pygments_lexer": "ipython3",
   "version": "3.9.13"
  },
  "orig_nbformat": 4
 },
 "nbformat": 4,
 "nbformat_minor": 2
}
