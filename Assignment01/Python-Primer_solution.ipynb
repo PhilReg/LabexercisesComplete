{
 "cells": [
  {
   "cell_type": "markdown",
   "metadata": {},
   "source": [
    "# First Exercise, A Primer in Python\n",
    "This exercise will familiarize you with the basics of Python programming. You can either use https://colab.research.google.com or setup your own environment using https://www.anaconda.com/. We recommend to use at least Python 3.6. If you decide to use Python locally, make sure you prepare a conda (recommended) or pip virtual environment to install all required dependencies for this class. We can recommend PyCharm or VS code as IDEs for your local environment.\n",
    "\n",
    "Fill in the small coding exercises written in boldface. For the other cells, make an educated guess what you expect the output to be and then check your assumptions by executing the cells. "
   ]
  },
  {
   "cell_type": "markdown",
   "metadata": {},
   "source": [
    "## Basic Data Types \n",
    "Python is a dynamically-typed language which means that you don't have to declare variable types (and those can change over time). You can determine a variable's type at runtime using `type()`."
   ]
  },
  {
   "cell_type": "code",
   "execution_count": 4,
   "metadata": {},
   "outputs": [
    {
     "name": "stdout",
     "output_type": "stream",
     "text": [
      "True\n",
      "<class 'bool'>\n",
      "12.0\n",
      "<class 'float'>\n"
     ]
    }
   ],
   "source": [
    "x = True \n",
    "print(x)\n",
    "print(type(x))\n",
    "\n",
    "x = 12 \n",
    "x = float(x)\n",
    "print(x)\n",
    "print(type(x))"
   ]
  },
  {
   "cell_type": "markdown",
   "metadata": {},
   "source": [
    "String literals are written in single or double quotes, floats using decimal points.\n",
    "\n",
    "**Declare x to take the value 3.14 and evaluate its type - similarly to the code above. Do the same for the string \"artificial intelligence\"**\n"
   ]
  },
  {
   "cell_type": "code",
   "execution_count": 2,
   "metadata": {},
   "outputs": [
    {
     "data": {
      "text/plain": [
       "float"
      ]
     },
     "execution_count": 2,
     "metadata": {},
     "output_type": "execute_result"
    }
   ],
   "source": [
    "x = 3.14\n",
    "\n",
    "type(x)"
   ]
  },
  {
   "cell_type": "markdown",
   "metadata": {},
   "source": [
    "Consider the expressions `5 / 2` and `4 / 2`. What do you expect their types to be? **Check using the following cell**"
   ]
  },
  {
   "cell_type": "code",
   "execution_count": 3,
   "metadata": {},
   "outputs": [
    {
     "data": {
      "text/plain": [
       "float"
      ]
     },
     "execution_count": 3,
     "metadata": {},
     "output_type": "execute_result"
    }
   ],
   "source": [
    "type(5/2)"
   ]
  },
  {
   "cell_type": "markdown",
   "metadata": {},
   "source": [
    "Instead of the operators `&&` or `||` which are familiar from C++ or Java, Python uses `and`, `or`, and `not`. If statements follow the syntax:\n",
    "```\n",
    "if condition : \n",
    "  <then-code>\n",
    "else \n",
    "  <else-code>\n",
    "```\n",
    "\n",
    "The short conditional assignment operator (cf. `x = condition ? val_if_true : val_if_false`) is written as follows:\n",
    "\n",
    "```\n",
    "var = val_if_true if condition else val_if_false\n",
    "```\n",
    "\n",
    "**Write a program that tests whether a variable `x` is greater than 10 or not and print \"large\" or \"small\".**"
   ]
  },
  {
   "cell_type": "code",
   "execution_count": 2,
   "metadata": {},
   "outputs": [
    {
     "name": "stdout",
     "output_type": "stream",
     "text": [
      "large\n"
     ]
    }
   ],
   "source": [
    "x = 13\n",
    "# x = 4 etc\n",
    "if x > 10:\n",
    "    print(\"large\")\n",
    "else: \n",
    "    print(\"small\")"
   ]
  },
  {
   "cell_type": "markdown",
   "metadata": {},
   "source": [
    "**Write a short conditional assignment that assigns y to 5 if x > 0 and 0 otherwise.**"
   ]
  },
  {
   "cell_type": "code",
   "execution_count": 5,
   "metadata": {},
   "outputs": [
    {
     "name": "stdout",
     "output_type": "stream",
     "text": [
      "5\n"
     ]
    }
   ],
   "source": [
    "y = 5 if x > 0 else 0\n",
    "print(y)"
   ]
  },
  {
   "cell_type": "markdown",
   "metadata": {},
   "source": [
    "Python variables are references. You can check if two variables point to the same data object using `id()`."
   ]
  },
  {
   "cell_type": "code",
   "execution_count": 3,
   "metadata": {},
   "outputs": [
    {
     "name": "stdout",
     "output_type": "stream",
     "text": [
      "3207538884976\n",
      "3207538885008\n",
      "3207538886832\n",
      "3207538884976\n"
     ]
    }
   ],
   "source": [
    "x = 42000\n",
    "print(id(x))\n",
    "y = 42000\n",
    "# will get a different id \n",
    "print(id(y))\n",
    "\n",
    "z = (21000 + 21000) \n",
    "# will get yet another different id \n",
    "print(id(z))\n",
    "\n",
    "k = x\n",
    "print(id(k))"
   ]
  },
  {
   "cell_type": "markdown",
   "metadata": {},
   "source": [
    "On strings you can check for equality using `==`, irrespective of the identity. It's equivalent to `.equals()` in Java."
   ]
  },
  {
   "cell_type": "code",
   "execution_count": null,
   "metadata": {},
   "outputs": [],
   "source": [
    "first_str = \"AI rules\"\n",
    "second_str = \"AI rules\"\n",
    "print(id(first_str) == id(second_str))\n",
    "\n",
    "print(first_str == second_str)"
   ]
  },
  {
   "cell_type": "markdown",
   "metadata": {},
   "source": [
    "## Container Types\n",
    "Python includes several built-in container types: lists, dictionaries, sets, and tuples.\n",
    "\n",
    "### Lists\n",
    "Let's start with lists "
   ]
  },
  {
   "cell_type": "code",
   "execution_count": 8,
   "metadata": {},
   "outputs": [
    {
     "name": "stdout",
     "output_type": "stream",
     "text": [
      "3\n",
      "1\n",
      "1\n",
      "2\n",
      "Length of the string is 4\n",
      "5\n"
     ]
    }
   ],
   "source": [
    "# instantiating a list\n",
    "l = [3, 4, 2, 1]\n",
    "\n",
    "# accessing the items per index\n",
    "print(l[0])\n",
    "print(l[3])\n",
    "print(l[-1])\n",
    "print(l[-2])\n",
    "\n",
    "# accessing the length\n",
    "print(f\"Length of the string is {len(l)}\")\n",
    "print(len(\"Hello\"))"
   ]
  },
  {
   "cell_type": "markdown",
   "metadata": {},
   "source": [
    "List access is quite convenient using slicing. Use an expression of the form `l[start_index:end_index:increment]` to obtain a new lists with some of the elements of `l`.\n",
    "\n",
    "For example, return every second element, starting from the beginning:"
   ]
  },
  {
   "cell_type": "code",
   "execution_count": 5,
   "metadata": {},
   "outputs": [
    {
     "name": "stdout",
     "output_type": "stream",
     "text": [
      "[3, 2]\n"
     ]
    }
   ],
   "source": [
    "print(l[0:4:2])"
   ]
  },
  {
   "cell_type": "markdown",
   "metadata": {},
   "source": [
    "A particularly useful application is how you can easily revert a list, by starting from the last element (index `-1` since indices are taken modulo len(l)), decrement the counter by 1. This will give you a reversed copy of the list whereas `l.reverse()` will do the reversal in-place:"
   ]
  },
  {
   "cell_type": "code",
   "execution_count": 6,
   "metadata": {},
   "outputs": [
    {
     "name": "stdout",
     "output_type": "stream",
     "text": [
      "[1, 2, 4, 3]\n"
     ]
    }
   ],
   "source": [
    "reversed_list = l[-1::-1] # or just l[::-1]\n",
    "print(reversed_list)"
   ]
  },
  {
   "cell_type": "markdown",
   "metadata": {},
   "source": [
    "Lists can contain heterogeneously typed elements. You can iterate through lists using a `for`-loop or use comprehensions to create new lists from lists:"
   ]
  },
  {
   "cell_type": "code",
   "execution_count": null,
   "metadata": {},
   "outputs": [],
   "source": [
    "l = [12, \"abc\", 3.14]\n",
    "\n",
    "\n",
    "for element in l:\n",
    "    print(f\"The type of element {element} is {type(element)}.\")\n",
    "    \n",
    "# make a list of all strings\n",
    "sl = [str(element) for element in l]\n",
    "\n",
    "for element in sl:\n",
    "    print(f\"The type of element {element} is {type(element)}.\")"
   ]
  },
  {
   "cell_type": "markdown",
   "metadata": {},
   "source": [
    "If you need an index for an existing list, you can use `enumerate`. If you want to simultaneously iterate through two lists, you can use `zip`."
   ]
  },
  {
   "cell_type": "code",
   "execution_count": 9,
   "metadata": {},
   "outputs": [
    {
     "name": "stdout",
     "output_type": "stream",
     "text": [
      "Element #0 is 12\n",
      "Element #1 is abc\n",
      "Element #2 is 3.14\n",
      "a is 10, b is 2\n",
      "a is 15, b is 4\n",
      "a is 20, b is 8\n"
     ]
    }
   ],
   "source": [
    "l = [12, \"abc\", 3.14]\n",
    "\n",
    "for index, element in enumerate(l):\n",
    "    print(f\"Element #{index} is {element}\")\n",
    "    \n",
    "a_vals = [10, 15, 20]\n",
    "b_vals = [2, 4, 8]\n",
    "\n",
    "for a, b in zip(a_vals, b_vals):\n",
    "    print(f\"a is {a}, b is {b}\")"
   ]
  },
  {
   "cell_type": "markdown",
   "metadata": {},
   "source": [
    "Another iterable type is `range(n)` that gives you the integers from `0` up to `n - 1`. You can use this for the standard way of writing `for`-loops in Python. `range(lower, upper)` goes from `lower` (inclusive) up to `upper - 1`."
   ]
  },
  {
   "cell_type": "code",
   "execution_count": 12,
   "metadata": {},
   "outputs": [
    {
     "name": "stdout",
     "output_type": "stream",
     "text": [
      "0\n",
      "1\n",
      "2\n",
      "3\n",
      "----\n",
      "2\n",
      "4\n",
      "6\n"
     ]
    }
   ],
   "source": [
    "for i in range(4): \n",
    "    print(i)\n",
    "    \n",
    "print(\"----\")\n",
    "for i in range(2, 6): \n",
    "    print(i)"
   ]
  },
  {
   "cell_type": "markdown",
   "metadata": {},
   "source": [
    "**Create a list of the first 10 even numbers and convert them into a list of strings \"Even number #1 is 2.\", \"Even number #2 is 4.\" etc**"
   ]
  },
  {
   "cell_type": "code",
   "execution_count": 16,
   "metadata": {},
   "outputs": [
    {
     "name": "stdout",
     "output_type": "stream",
     "text": [
      "['Even number #1 is 2', 'Even number #2 is 4', 'Even number #3 is 6', 'Even number #4 is 8', 'Even number #5 is 10', 'Even number #6 is 12', 'Even number #7 is 14', 'Even number #8 is 16', 'Even number #9 is 18', 'Even number #10 is 20']\n"
     ]
    }
   ],
   "source": [
    "string_list = [f\"Even number #{i} is {i*2}\" for i in range(1, 11)]\n",
    "print(string_list)"
   ]
  },
  {
   "cell_type": "markdown",
   "metadata": {},
   "source": [
    "### Tuples\n",
    "A tuple is a collection which is ordered and unchangeable. In Python tuples are written with round brackets. They are particularly useful for return values of functions as pairs."
   ]
  },
  {
   "cell_type": "code",
   "execution_count": 17,
   "metadata": {},
   "outputs": [
    {
     "name": "stdout",
     "output_type": "stream",
     "text": [
      "4\n",
      "a is 1, b is 4, c is 3 and t is (1, 4, 3)\n"
     ]
    },
    {
     "ename": "TypeError",
     "evalue": "'tuple' object does not support item assignment",
     "output_type": "error",
     "traceback": [
      "\u001b[1;31m---------------------------------------------------------------------------\u001b[0m",
      "\u001b[1;31mTypeError\u001b[0m                                 Traceback (most recent call last)",
      "\u001b[1;32mc:\\Temp\\ipykernel_23404\\980597406.py\u001b[0m in \u001b[0;36m<module>\u001b[1;34m\u001b[0m\n\u001b[0;32m      8\u001b[0m \u001b[1;33m\u001b[0m\u001b[0m\n\u001b[0;32m      9\u001b[0m \u001b[1;31m# should not work\u001b[0m\u001b[1;33m\u001b[0m\u001b[1;33m\u001b[0m\u001b[1;33m\u001b[0m\u001b[0m\n\u001b[1;32m---> 10\u001b[1;33m \u001b[0mt\u001b[0m\u001b[1;33m[\u001b[0m\u001b[1;36m2\u001b[0m\u001b[1;33m]\u001b[0m \u001b[1;33m=\u001b[0m \u001b[1;36m4\u001b[0m\u001b[1;33m\u001b[0m\u001b[1;33m\u001b[0m\u001b[0m\n\u001b[0m",
      "\u001b[1;31mTypeError\u001b[0m: 'tuple' object does not support item assignment"
     ]
    }
   ],
   "source": [
    "t = (1, 4, 3)\n",
    "print(t[1]) \n",
    "\n",
    "# you can extract individual components easily by comma\n",
    "a, b, c = t\n",
    "\n",
    "print(f\"a is {a}, b is {b}, c is {c} and t is {t}\")\n",
    "\n",
    "# should not work\n",
    "t[2] = 4"
   ]
  },
  {
   "cell_type": "markdown",
   "metadata": {},
   "source": [
    "You can iterate through tuples and use `len` just like we did for lists:"
   ]
  },
  {
   "cell_type": "code",
   "execution_count": null,
   "metadata": {},
   "outputs": [],
   "source": [
    "for val in t:\n",
    "    print(val)\n",
    "print(\"---\")\n",
    "print(len(t))"
   ]
  },
  {
   "cell_type": "markdown",
   "metadata": {},
   "source": [
    "Actually, we've already seen tuples in action using `enumerate` and `zip`:\n"
   ]
  },
  {
   "cell_type": "code",
   "execution_count": 18,
   "metadata": {},
   "outputs": [
    {
     "name": "stdout",
     "output_type": "stream",
     "text": [
      "(0, 'I')\n",
      "(1, 'like')\n",
      "(2, 'AI')\n",
      "#0: I\n",
      "#1: like\n",
      "#2: AI\n"
     ]
    }
   ],
   "source": [
    "l = [\"I\", \"like\", \"AI\"]\n",
    "for t in enumerate(l):\n",
    "    print(t)\n",
    "    \n",
    "# A much nicer syntax uses the individual components, as we did above\n",
    "# you can write it with or without parentheses\n",
    "for (i,v) in enumerate(l): # same as for i,v in enumerate(l):\n",
    "    print(f\"#{i}: {v}\")"
   ]
  },
  {
   "cell_type": "markdown",
   "metadata": {},
   "source": [
    "**Given a list of float values `l`, write some code that produces a list of tuples $(x, x^2, x^3)$ for each value `x` in `l`** Hint (`x**2` calculates $x^2$)"
   ]
  },
  {
   "cell_type": "code",
   "execution_count": null,
   "metadata": {},
   "outputs": [],
   "source": [
    "l = [2.0, 3.0, 4.0]\n"
   ]
  },
  {
   "cell_type": "markdown",
   "metadata": {},
   "source": [
    "### Dictionaries\n",
    "A dictionary is a collection which is unordered, changeable, and indexed -- like a hash map. In Python, dictionaries are written with curly brackets, and they have keys and values."
   ]
  },
  {
   "cell_type": "code",
   "execution_count": 20,
   "metadata": {},
   "outputs": [
    {
     "name": "stdout",
     "output_type": "stream",
     "text": [
      "{'name': 'Alan', 'age': 20}\n"
     ]
    }
   ],
   "source": [
    "person = {\n",
    "  \"name\": \"Alan\",\n",
    "  \"age\": 20\n",
    "}\n",
    "\n",
    "print(person)"
   ]
  },
  {
   "cell_type": "markdown",
   "metadata": {},
   "source": [
    "You can add new attributes when using a new key, similarly you can check for a key with `if key in dictionary`"
   ]
  },
  {
   "cell_type": "code",
   "execution_count": 23,
   "metadata": {},
   "outputs": [
    {
     "name": "stdout",
     "output_type": "stream",
     "text": [
      "True\n",
      "True\n",
      "False\n",
      "{'name': 'Alan', 'age': 20, 'graduation': 2021}\n"
     ]
    }
   ],
   "source": [
    "print(\"graduation\" in person)\n",
    "person[\"graduation\"] = 2021\n",
    "print(\"graduation\" in person)\n",
    "print(\"enrolled\" in person)\n",
    "print(person)"
   ]
  },
  {
   "cell_type": "markdown",
   "metadata": {},
   "source": [
    "You can iterate over a dictionary by keys, by values or by a tuple of both:"
   ]
  },
  {
   "cell_type": "code",
   "execution_count": 24,
   "metadata": {},
   "outputs": [
    {
     "name": "stdout",
     "output_type": "stream",
     "text": [
      "Person[name] = Alan\n",
      "Person[age] = 20\n",
      "Person[graduation] = 2021\n",
      "---\n",
      "Alan\n",
      "20\n",
      "2021\n",
      "---\n",
      "Person[name] = Alan\n",
      "Person[age] = 20\n",
      "Person[graduation] = 2021\n"
     ]
    }
   ],
   "source": [
    "for key in person:\n",
    "    print(f\"Person[{key}] = {person[key]}\")\n",
    "print(\"---\")\n",
    "\n",
    "for value in person.values():\n",
    "    print(value)\n",
    "    \n",
    "print(\"---\")\n",
    "\n",
    "for key, value in person.items():\n",
    "    print(f\"Person[{key}] = {value}\")"
   ]
  },
  {
   "cell_type": "markdown",
   "metadata": {},
   "source": [
    "Dictionary comprehensions are similar to list comprehensions, but allow you to easily construct dictionaries. For example:"
   ]
  },
  {
   "cell_type": "code",
   "execution_count": null,
   "metadata": {},
   "outputs": [],
   "source": [
    "nums = [0, 1, 2, 3, 4]\n",
    "even_num_to_square = {x: x ** 2 for x in nums if x % 2 == 0}\n",
    "\n",
    "print(even_num_to_square)"
   ]
  },
  {
   "cell_type": "markdown",
   "metadata": {},
   "source": [
    "You can also start with an empty dictionary using the constructor `dict()` and fill it dynamically"
   ]
  },
  {
   "cell_type": "code",
   "execution_count": null,
   "metadata": {},
   "outputs": [],
   "source": [
    "d = dict()\n",
    "l = list()\n",
    "for i in range(5,10): \n",
    "    d[f\"key_{i}\"] = i*2\n",
    "    \n",
    "print(d)"
   ]
  },
  {
   "cell_type": "markdown",
   "metadata": {},
   "source": [
    "**Create a dictionary that, for every integer from 3 to 10 contains a key \"entry_i\" which maps to a tuple t that consists of the natural numbers up to i (starting from 0)** \n",
    "\n",
    "For instance the dictionary should have a key `entry_3` and the corresponding value would be `(3, [0,1,2,3])`"
   ]
  },
  {
   "cell_type": "code",
   "execution_count": 26,
   "metadata": {},
   "outputs": [
    {
     "name": "stdout",
     "output_type": "stream",
     "text": [
      "{'entry_3': [0, 1, 2, 3], 'entry_4': [0, 1, 2, 3, 4], 'entry_5': [0, 1, 2, 3, 4, 5], 'entry_6': [0, 1, 2, 3, 4, 5, 6], 'entry_7': [0, 1, 2, 3, 4, 5, 6, 7], 'entry_8': [0, 1, 2, 3, 4, 5, 6, 7, 8], 'entry_9': [0, 1, 2, 3, 4, 5, 6, 7, 8, 9], 'entry_10': [0, 1, 2, 3, 4, 5, 6, 7, 8, 9, 10]}\n"
     ]
    }
   ],
   "source": [
    "sol = dict()\n",
    "\n",
    "for i in range(3, 11):\n",
    "    sol[f\"entry_{i}\"] = list(range(i+1))\n",
    "\n",
    "print(sol)"
   ]
  },
  {
   "cell_type": "markdown",
   "metadata": {},
   "source": [
    "### Sets\n",
    "A set is a collection which is unordered and unindexed. In Python, sets are written with curly brackets."
   ]
  },
  {
   "cell_type": "code",
   "execution_count": 27,
   "metadata": {},
   "outputs": [
    {
     "name": "stdout",
     "output_type": "stream",
     "text": [
      "{1, 2, 3}\n",
      "{0, 1, 2, 3, 4, 5}\n"
     ]
    }
   ],
   "source": [
    "s = {1,2,2,2,3}\n",
    "print(s)\n",
    "\n",
    "# you can use comprehensions as well\n",
    "from math import sqrt\n",
    "nums = {int(sqrt(x)) for x in range(30)}\n",
    "print(nums) "
   ]
  },
  {
   "cell_type": "markdown",
   "metadata": {},
   "source": [
    "## Functions, Classes, Modules  \n",
    "Python functions are defined using the def keyword and their begin and end is indicated by identations. For example:"
   ]
  },
  {
   "cell_type": "code",
   "execution_count": 28,
   "metadata": {},
   "outputs": [
    {
     "name": "stdout",
     "output_type": "stream",
     "text": [
      "Negative\n",
      "Zero\n",
      "Positive\n"
     ]
    }
   ],
   "source": [
    "def sign(x):\n",
    "    if x < 0:\n",
    "        return \"Negative\"\n",
    "    elif x == 0:\n",
    "        return \"Zero\"\n",
    "    else:\n",
    "        return \"Positive\"\n",
    "    \n",
    "print(sign(-5.2))\n",
    "print(sign(0))\n",
    "print(sign(2.2))"
   ]
  },
  {
   "cell_type": "markdown",
   "metadata": {},
   "source": [
    "Often we'll want to have default arguments that must be after the fixed (\"positional\") arguments:"
   ]
  },
  {
   "cell_type": "code",
   "execution_count": 29,
   "metadata": {},
   "outputs": [
    {
     "name": "stdout",
     "output_type": "stream",
     "text": [
      "5\n",
      "5.2\n",
      "5.2\n"
     ]
    }
   ],
   "source": [
    "def multiply_by_two(x, round_afterwards = True):\n",
    "    y = x*2\n",
    "    if round_afterwards:\n",
    "        y = round(y)\n",
    "    return y\n",
    "        \n",
    "print(multiply_by_two(2.6))\n",
    "print(multiply_by_two(2.6, False))\n",
    "print(multiply_by_two(2.6, round_afterwards=False))"
   ]
  },
  {
   "cell_type": "markdown",
   "metadata": {},
   "source": [
    "**Write a function `relu_layer` that takes two lists of numbers of equal length, calculates their dot-product and cuts of negative values of the sum at 0**\n",
    "\n",
    "For example, `relu_layer([1, 4, -1], [2, 1, 0]) = 6`, `relu_layer([1, 4, -1], [2, 1, 10]) = 0` (since `-4 < 0`).\n",
    "\n",
    "Use comprehensions, `sum()` and everything we've talked about"
   ]
  },
  {
   "cell_type": "code",
   "execution_count": 3,
   "metadata": {},
   "outputs": [
    {
     "name": "stdout",
     "output_type": "stream",
     "text": [
      "[2, 4, 0]\n",
      "6\n",
      "[2, 4, -10]\n",
      "0\n"
     ]
    }
   ],
   "source": [
    "def relu_layer(x, w):\n",
    "    # zip(x, w) -> [(x_1, w_1), ..., (x_n, w_n)]\n",
    "    dot_product = [x_i*w_i for x_i, w_i in zip(x, w)]\n",
    "    print(dot_product)\n",
    "    res = sum(dot_product)\n",
    "    \n",
    "    if res >= 0:\n",
    "        return res\n",
    "    else:\n",
    "        return 0\n",
    "\n",
    "\n",
    "print(relu_layer([1,4,-1], [2,1,0]))\n",
    "print(relu_layer([1,4,-1], [2,1,10]))"
   ]
  },
  {
   "cell_type": "code",
   "execution_count": null,
   "metadata": {},
   "outputs": [],
   "source": []
  },
  {
   "cell_type": "code",
   "execution_count": null,
   "metadata": {},
   "outputs": [],
   "source": []
  },
  {
   "cell_type": "markdown",
   "metadata": {},
   "source": [
    "### Classes \n",
    "\n",
    "A class is a \"blueprint\" for a type of object: People, Cars, Robots,etc. It defines attributes (such as the name and age of a person) and methods (programs that can be executed using the data of the object)."
   ]
  },
  {
   "cell_type": "code",
   "execution_count": 30,
   "metadata": {},
   "outputs": [
    {
     "name": "stdout",
     "output_type": "stream",
     "text": [
      "Hi, my name is Adam and I'm 36 years old.\n"
     ]
    }
   ],
   "source": [
    "class Person:\n",
    "    def __init__(self, name, age):\n",
    "        self.name = name\n",
    "        self.age = age\n",
    "        \n",
    "    def greet(self):\n",
    "        return f\"Hi, my name is {self.name} and I'm {self.age} years old.\"\n",
    "\n",
    "p1 = Person(\"Adam\", 36)\n",
    "\n",
    "print(p1.greet())"
   ]
  },
  {
   "cell_type": "code",
   "execution_count": null,
   "metadata": {},
   "outputs": [],
   "source": []
  }
 ],
 "metadata": {
  "kernelspec": {
   "display_name": "Python 3",
   "language": "python",
   "name": "python3"
  },
  "language_info": {
   "codemirror_mode": {
    "name": "ipython",
    "version": 3
   },
   "file_extension": ".py",
   "mimetype": "text/x-python",
   "name": "python",
   "nbconvert_exporter": "python",
   "pygments_lexer": "ipython3",
   "version": "3.8.13"
  }
 },
 "nbformat": 4,
 "nbformat_minor": 2
}
