{
 "cells": [
  {
   "cell_type": "code",
   "execution_count": 2,
   "metadata": {},
   "outputs": [
    {
     "name": "stdout",
     "output_type": "stream",
     "text": [
      "   Heavy  Smelly  Big  Growling  Action\n",
      "0      0       0    0         0       0\n",
      "1      0       0    1         0       0\n",
      "2      1       1    0         1       0\n",
      "3      1       0    0         1       1\n",
      "4      0       1    1         0       1\n",
      "5      0       0    1         1       1\n",
      "6      0       0    0         1       1\n",
      "7      1       1    0         0       1\n"
     ]
    }
   ],
   "source": [
    "import pandas as pd\n",
    "import numpy as np\n",
    "\n",
    "# read dog dataset, No is encoded as 0, Yes as 1, \n",
    "# bite refers to class 1, bark to class 0\n",
    "\n",
    "data = pd.read_csv(\"dogs.csv\") \n",
    "print(data)"
   ]
  },
  {
   "cell_type": "markdown",
   "metadata": {},
   "source": [
    "You can access individual columns by name to get a pandas series or convert it to a NumPy array:"
   ]
  },
  {
   "cell_type": "code",
   "execution_count": null,
   "metadata": {},
   "outputs": [],
   "source": [
    "print(data[\"Heavy\"])\n",
    "print(data[\"Heavy\"].to_numpy())"
   ]
  },
  {
   "cell_type": "markdown",
   "metadata": {},
   "source": [
    "### What is the entropy of the target value 'Action' in the whole dataset? \n",
    "Define a function that calculates the entropy (for a list of 0/1 values):"
   ]
  },
  {
   "cell_type": "code",
   "execution_count": null,
   "metadata": {},
   "outputs": [],
   "source": [
    "def entropy(values):\n",
    "    return None"
   ]
  },
  {
   "cell_type": "markdown",
   "metadata": {},
   "source": [
    "Apply it to the \"Action\" column"
   ]
  },
  {
   "cell_type": "code",
   "execution_count": null,
   "metadata": {},
   "outputs": [],
   "source": [
    "print(entropy(data[\"Action\"].to_numpy()))"
   ]
  },
  {
   "cell_type": "markdown",
   "metadata": {},
   "source": [
    "### Which attribute would the ID3 algorithm choose to use for the root of the tree? What is its information gain? \n",
    "\n",
    "Iterate through all categories, make the potential split, compare the resulting entropies and take the greedy choice. You might need:\n",
    "\n",
    "```\n",
    "# iterating the columns \n",
    "for col in data.columns: \n",
    "    print(col)\n",
    "```\n",
    "\n",
    "and to filter entries of a dataframe that satisfy a certain condition, you might want to use:\n",
    "```\n",
    "data[data[\"Heavy\"] == 0] # only those entries that are not heavy\n",
    "```"
   ]
  },
  {
   "cell_type": "code",
   "execution_count": null,
   "metadata": {},
   "outputs": [],
   "source": []
  },
  {
   "cell_type": "markdown",
   "metadata": {},
   "source": [
    "###  Draw the full decision tree that would be learned for this data using ID3 without pruning.\n",
    "\n",
    "Recursively apply the splitting procedure until all nodes are leaf nodes (= pure in the target). You may use the class `Node` as a start for your implementation and attributes as needed."
   ]
  },
  {
   "cell_type": "code",
   "execution_count": null,
   "metadata": {},
   "outputs": [],
   "source": [
    "class Node:\n",
    "    \n",
    "    def entropy(self, values):\n",
    "        # could be empty  while trying for a split\n",
    "        if values.size == 0:\n",
    "            return 0\n",
    "        \n",
    "        ratio_ones = sum(values) / len(values)\n",
    "        ratio_zeros = 1 - ratio_ones\n",
    "\n",
    "        pd = [ratio_ones, ratio_zeros]\n",
    "        if ratio_ones == 0 or ratio_zeros == 0:\n",
    "            return 0\n",
    "        return - sum( [ p_i * np.log2(p_i) for p_i in pd] )\n",
    "    \n",
    "    def __init__(self, data, ancestor_features):\n",
    "        # pure if there are all ones or all zeros \n",
    "        self.pure = sum(data[\"Action\"]) == len(data) or  sum(data[\"Action\"]) == 0\n",
    "        self.split_feature = None\n",
    "        self.data = data\n",
    "        self.base_entropy = self.entropy(data[\"Action\"].to_numpy())\n",
    "        self.children = None\n",
    "        # since we're using categorical (binary), each features should at most be used once in any branch\n",
    "        self.ancestor_features = ancestor_features \n",
    "        # You can use these ancestor_features to get a nice identation:\n",
    "        # print(\" \"*len(self.ancestor_features) + f\"Initializing with data {data}\")\n",
    "        \n",
    "    def split(self):\n",
    "        # implement the split here\n",
    "        \n",
    "    def train(self):        \n",
    "        if not self.pure:\n",
    "            self.split()\n",
    "            for child in self.children:\n",
    "                # assume that we can get nodes pure by looking at our features\n",
    "                # having exactly the same features but two different classes would not work here\n",
    "                child.train()\n",
    "                # now child is either pure or split into nodes that are eventually pure\n",
    "\n",
    "# start training with a root node consisting of all data\n",
    "root = Node(data, [])\n",
    "root.train()"
   ]
  },
  {
   "cell_type": "markdown",
   "metadata": {},
   "source": [
    "### Test on three new dogs\n",
    "Here's the test set, evaluate the predicted \"Action\" classes using your implementation and compare them to the true \"Action\" classes."
   ]
  },
  {
   "cell_type": "code",
   "execution_count": 3,
   "metadata": {},
   "outputs": [
    {
     "name": "stdout",
     "output_type": "stream",
     "text": [
      "   Heavy  Smelly  Big  Growling  Action\n",
      "0      1       0    1         1       0\n",
      "1      0       0    0         1       0\n",
      "2      1       1    0         0       1\n"
     ]
    }
   ],
   "source": [
    "data = pd.read_csv(\"dogs_test.csv\") \n",
    "print(data)"
   ]
  },
  {
   "cell_type": "markdown",
   "metadata": {},
   "source": [
    "### Repeat with the Gini coefficient\n",
    "Just alter your previous implementations "
   ]
  },
  {
   "cell_type": "code",
   "execution_count": null,
   "metadata": {},
   "outputs": [],
   "source": []
  }
 ],
 "metadata": {
  "kernelspec": {
   "display_name": "aimaEnv",
   "language": "python",
   "name": "aimaenv"
  },
  "language_info": {
   "codemirror_mode": {
    "name": "ipython",
    "version": 3
   },
   "file_extension": ".py",
   "mimetype": "text/x-python",
   "name": "python",
   "nbconvert_exporter": "python",
   "pygments_lexer": "ipython3",
   "version": "3.7.9"
  }
 },
 "nbformat": 4,
 "nbformat_minor": 4
}
