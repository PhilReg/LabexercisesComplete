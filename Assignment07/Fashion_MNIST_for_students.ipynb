{
 "cells": [
  {
   "cell_type": "code",
   "execution_count": null,
   "metadata": {},
   "outputs": [],
   "source": [
    "import numpy as np\n",
    "%matplotlib inline\n",
    "import tensorflow as tf\n",
    "from tensorflow import keras"
   ]
  },
  {
   "attachments": {},
   "cell_type": "markdown",
   "metadata": {},
   "source": [
    "# Let's work on classifying fashion MNIST"
   ]
  },
  {
   "cell_type": "code",
   "execution_count": null,
   "metadata": {},
   "outputs": [],
   "source": [
    "# load the dataset (keras offers a functionality for this)\n",
    "fashion_mnist = keras.datasets.fashion_mnist\n",
    "(X_train_full, y_train_full), (X_test, y_test) = (fashion_mnist.load_data())\n",
    "\n",
    "# inspect the shapes\n",
    "# How many data instances are there in my train set? \n",
    "print(X_train_full.shape)\n",
    "print(y_train_full.shape)\n",
    "print(X_test.shape)\n",
    "print(y_test.shape)"
   ]
  },
  {
   "cell_type": "code",
   "execution_count": null,
   "metadata": {},
   "outputs": [],
   "source": [
    "# visualize the first image\n",
    "import matplotlib.pyplot as plt\n",
    "im1 = X_train_full[0]\n"
   ]
  },
  {
   "cell_type": "code",
   "execution_count": null,
   "metadata": {},
   "outputs": [],
   "source": [
    "# now to have this in greyscale\n",
    "plt.imshow(im1, cmap=\"Greys\")"
   ]
  },
  {
   "attachments": {},
   "cell_type": "markdown",
   "metadata": {},
   "source": [
    "What's the class label of the first image?"
   ]
  },
  {
   "cell_type": "code",
   "execution_count": null,
   "metadata": {},
   "outputs": [],
   "source": [
    "label1 = y_train_full[0]\n",
    "print(label1)"
   ]
  },
  {
   "cell_type": "code",
   "execution_count": null,
   "metadata": {},
   "outputs": [],
   "source": [
    "# okay we need better names for that:\n",
    "class_names = [\"T-shirt/top\", \"Trouser\", \"Pullover\", \"Dress\", \"Coat\",\n",
    "               \"Sandal\", \"Shirt\", \"Sneaker\", \"Bag\", \"Ankle boot\"]\n",
    "\n",
    "print(class_names[label1])"
   ]
  },
  {
   "attachments": {},
   "cell_type": "markdown",
   "metadata": {},
   "source": [
    "Split away a validation set with 5000 instances from the full training set \n"
   ]
  },
  {
   "cell_type": "code",
   "execution_count": null,
   "metadata": {},
   "outputs": [],
   "source": [
    "# get a validation set of size 5000\n",
    "# use the train-test split of scikit-learn for that matter\n",
    "from sklearn.model_selection import train_test_split\n",
    "X_train, X_val, y_train, y_val = train_test_split(X_train_full, y_train_full, test_size=5000, random_state=42)\n",
    "\n",
    "print(X_train.shape)\n",
    "print(X_val.shape)"
   ]
  },
  {
   "cell_type": "code",
   "execution_count": null,
   "metadata": {},
   "outputs": [],
   "source": [
    "# Data vizualization\n",
    "n_rows = 2\n",
    "n_cols = 8\n",
    "plt.figure(figsize=(n_cols*1.6, n_rows * 1.8))\n",
    "for row in range(n_rows):\n",
    "    for col in range(n_cols):\n",
    "        index = n_cols * row + col\n",
    "        plt.subplot(n_rows, n_cols, index + 1)\n",
    "        plt.imshow(X_train[index], cmap=\"binary\", interpolation=\"nearest\")\n",
    "        plt.axis('off')\n",
    "        plt.title(class_names[y_train[index]])\n",
    "\n",
    "plt.show()"
   ]
  },
  {
   "attachments": {},
   "cell_type": "markdown",
   "metadata": {},
   "source": [
    "# Random Forest"
   ]
  },
  {
   "cell_type": "code",
   "execution_count": null,
   "metadata": {},
   "outputs": [],
   "source": [
    "# let's train a random forest classifier on the data to see what accuracies we'll get \n",
    "\n",
    "# First reshape this into one dimensional vectors\n",
    "vector_size = X_train.shape[1]*X_train.shape[2]\n",
    "X_train_vectors = X_train.reshape((X_train.shape[0], vector_size))\n",
    "X_val_vectors = X_val.reshape((X_val.shape[0], vector_size))\n",
    "X_test_vectors = X_test.reshape((X_test.shape[0], vector_size))\n",
    "\n",
    "print(X_train_vectors.shape)"
   ]
  },
  {
   "cell_type": "code",
   "execution_count": null,
   "metadata": {},
   "outputs": [],
   "source": [
    "from sklearn.ensemble import RandomForestClassifier\n",
    "# TODO \n",
    "# Assign correct splits from the cell above\n",
    "train_features = None\n",
    "train_labels = None\n",
    "\n",
    "validation_features = None\n",
    "validation_labels = None\n",
    "\n",
    "clf = RandomForestClassifier(random_state=0)\n",
    "clf.fit(train_features, train_labels)\n",
    "\n",
    "\n",
    "# measure train score and val score\n",
    "train_score = clf.score(train_features, train_labels)\n",
    "val_score = clf.score(validation_features, validation_labels)\n",
    "\n",
    "print(\"Train score: \", train_score)\n",
    "print(\"Val score: \", val_score)"
   ]
  },
  {
   "cell_type": "code",
   "execution_count": null,
   "metadata": {},
   "outputs": [],
   "source": [
    "# draw a random image from the val set and show the model's prediction\n",
    "import numpy as np\n",
    "image_index = np.random.randint(len(X_val_vectors))\n",
    "rand_image_vec = X_val_vectors[image_index]\n",
    "rand_image = rand_image_vec.reshape((28,28))\n",
    "plt.imshow(rand_image, cmap=\"Greys\")\n",
    "\n",
    "[predicted_class] = clf.predict(rand_image_vec.reshape(1,-1))\n",
    "actual_class = y_val[image_index]\n",
    "\n",
    "print(\"Predicted class: \", class_names[predicted_class])\n",
    "print(\"Actual class: \", class_names[actual_class])"
   ]
  },
  {
   "attachments": {},
   "cell_type": "markdown",
   "metadata": {},
   "source": [
    "Now, let's train a logistic classifier\n"
   ]
  },
  {
   "cell_type": "code",
   "execution_count": null,
   "metadata": {},
   "outputs": [],
   "source": [
    "from sklearn.linear_model import LogisticRegression\n",
    "# TODO use correct data splits\n",
    "train_features = None\n",
    "train_labels = None\n",
    "\n",
    "validation_features = None\n",
    "validation_labels = None\n",
    "\n",
    "clf = LogisticRegression(random_state=0)\n",
    "X_train_norm = train_features / 255.0\n",
    "X_val_norm = validation_features / 255.0\n",
    "\n",
    "clf.fit(X_train_norm, y_train)\n",
    "\n",
    "# measure train score and val score\n",
    "train_score = clf.score(train_features, train_labels)\n",
    "val_score = clf.score(validation_features, validation_labels)\n",
    "\n",
    "print(\"Train score: \", train_score)\n",
    "print(\"Val score: \", val_score)"
   ]
  },
  {
   "attachments": {},
   "cell_type": "markdown",
   "metadata": {},
   "source": [
    "# Feedforward Neural network in Keras\n",
    "Now it's time to shine for the neural network powered by keras"
   ]
  },
  {
   "cell_type": "code",
   "execution_count": null,
   "metadata": {},
   "outputs": [],
   "source": [
    "model = keras.models.Sequential()\n",
    "\n",
    "model.add(keras.layers.Dense(300, input_shape=[28*28], activation=\"relu\"))\n",
    "# TODO add one more layer with 100 units and relu activation\n",
    "# TODO add the output layer with number_of_classes units and softmax activation\n",
    "model.compile(loss=\"sparse_categorical_crossentropy\", optimizer=\"adam\",metrics=[\"accuracy\"])\n",
    "model.summary()"
   ]
  },
  {
   "cell_type": "code",
   "execution_count": null,
   "metadata": {},
   "outputs": [],
   "source": [
    "# let's inspect the weights of a single hidden layer, say the first\n",
    "h1 = model.layers[0]\n",
    "print(h1)\n",
    "weights, biases = h1.get_weights()\n",
    "print(weights.shape)\n",
    "print(biases.shape)"
   ]
  },
  {
   "cell_type": "code",
   "execution_count": null,
   "metadata": {},
   "outputs": [],
   "source": [
    "history = model.fit(X_train_norm, y_train, epochs=30, validation_data=(X_val_norm, y_val))"
   ]
  },
  {
   "cell_type": "code",
   "execution_count": null,
   "metadata": {},
   "outputs": [],
   "source": [
    "import pandas as pd\n",
    "\n",
    "pd.DataFrame(history.history).plot(figsize=(8, 5))\n",
    "plt.grid(True)\n",
    "plt.gca().set_ylim(0, 1)\n",
    "plt.savefig(\"keras_learning_curves_plot.png\")\n",
    "plt.show()"
   ]
  }
 ],
 "metadata": {
  "kernelspec": {
   "display_name": ".venv",
   "language": "python",
   "name": "python3"
  },
  "language_info": {
   "codemirror_mode": {
    "name": "ipython",
    "version": 3
   },
   "file_extension": ".py",
   "mimetype": "text/x-python",
   "name": "python",
   "nbconvert_exporter": "python",
   "pygments_lexer": "ipython3",
   "version": "3.10.11"
  }
 },
 "nbformat": 4,
 "nbformat_minor": 4
}
