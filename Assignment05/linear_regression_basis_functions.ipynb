{
 "cells": [
  {
   "cell_type": "code",
   "execution_count": 1,
   "metadata": {},
   "outputs": [
    {
     "name": "stdout",
     "output_type": "stream",
     "text": [
      "%pylab is deprecated, use %matplotlib inline and import the required libraries.\n",
      "Populating the interactive namespace from numpy and matplotlib\n"
     ]
    }
   ],
   "source": [
    "import numpy as np\n",
    "%pylab inline"
   ]
  },
  {
   "attachments": {},
   "cell_type": "markdown",
   "metadata": {},
   "source": [
    "# Modelselection, Overfitting and Underfitting\n",
    "\n",
    "This task is intended to clarify the terms training set, validation set and test set and demonstrate how to identify the best performing model. Specifically, you extend a one-dimensional data series $x$ with polynomial base functions $[x^2, x^3, ..., x^k]$. Your task is to determine a suitable polynomial degree $k$.\n",
    "\n",
    "Let's define a random data set:"
   ]
  },
  {
   "cell_type": "code",
   "execution_count": 4,
   "metadata": {},
   "outputs": [],
   "source": [
    "x_max = 10      # our input ranges from -x_max to x_max, we get training examples from this 1D range\n",
    "n_data = 80     # number of training examples \n",
    "max_k = 9       # highest degree of polynomial to consider\n",
    "\n",
    "# the true (non-polynomial) function that we would like to learn\n",
    "def true_process(x):\n",
    "    # sin(x + 2) * (x - 1)\n",
    "    return np.sin(x + 2) * (x - 1)\n",
    "    \n",
    "def gen_data_set():\n",
    "    np.random.seed(1338)\n",
    "    data_x = - x_max + np.random.rand(n_data) * (2 * x_max)\n",
    "    data_y = true_process(data_x)\n",
    "    noise = np.random.normal(0, 1.5, n_data)\n",
    "    data_y += noise\n",
    "    return (np.atleast_2d(data_x).T, data_y)"
   ]
  },
  {
   "cell_type": "code",
   "execution_count": 5,
   "metadata": {},
   "outputs": [
    {
     "data": {
      "text/plain": [
       "Text(0, 0.5, 'Labels')"
      ]
     },
     "execution_count": 5,
     "metadata": {},
     "output_type": "execute_result"
    },
    {
     "data": {
      "image/png": "[encoded data removed]",
      "text/plain": [
       "<Figure size 640x480 with 1 Axes>"
      ]
     },
     "metadata": {},
     "output_type": "display_data"
    }
   ],
   "source": [
    "data_x, data_y = gen_data_set()\n",
    "\n",
    "plot(data_x, data_y, 'x')\n",
    "title('Dataset')\n",
    "xlabel('Input')\n",
    "ylabel('Labels')"
   ]
  },
  {
   "attachments": {},
   "cell_type": "markdown",
   "metadata": {},
   "source": [
    "## Training-Validation-Test Split\n",
    "Now that we have our data set, we separate the data into a training set and a preliminary test set:\n"
   ]
  },
  {
   "cell_type": "code",
   "execution_count": 6,
   "metadata": {},
   "outputs": [
    {
     "name": "stdout",
     "output_type": "stream",
     "text": [
      "[0.26202468 0.15868397 0.27812652 0.45931689 0.32100054 0.51839282\n",
      " 0.26194293 0.97608528 0.73281455 0.11527423 0.38627507 0.62850118\n",
      " 0.12505793 0.98354861 0.44322487 0.78955834 0.79411858 0.36126157\n",
      " 0.41610394 0.58425813 0.76017177 0.18780841 0.28816715 0.67021886\n",
      " 0.49964826 0.17856868 0.4131413  0.19919524 0.5316994  0.8323707\n",
      " 0.18525095 0.95735922 0.42541467 0.50400704 0.51047095 0.01579145\n",
      " 0.73169007 0.99330504 0.16287753 0.12663478 0.37483418 0.69321944\n",
      " 0.00290103 0.36922906 0.05867933 0.78933609 0.34976921 0.70252372\n",
      " 0.49122908 0.97287233 0.83596788 0.61023733 0.56451898 0.99738914\n",
      " 0.25472414 0.01437786 0.08904507 0.9389826  0.9734594  0.49148153\n",
      " 0.34093597 0.72285762 0.01089676 0.75995318 0.67140279 0.19044553\n",
      " 0.66646465 0.9111224  0.16211743 0.91057832 0.3243579  0.70029842\n",
      " 0.26545034 0.51895865 0.17746798 0.46784597 0.44896452 0.39606462\n",
      " 0.79192543 0.49339824]\n"
     ]
    }
   ],
   "source": [
    "# first, we get a random number for every training example between 0 and 1\n",
    "np.random.seed(1337)     # just to have everything reproducible\n",
    "rand_numbers = np.random.rand(len(data_x))\n",
    "print(rand_numbers)"
   ]
  },
  {
   "cell_type": "code",
   "execution_count": 7,
   "metadata": {},
   "outputs": [
    {
     "name": "stdout",
     "output_type": "stream",
     "text": [
      "[ True  True  True  True  True  True  True False False  True  True  True\n",
      "  True False  True False False  True  True  True False  True  True  True\n",
      "  True  True  True  True  True False  True False  True  True  True  True\n",
      " False False  True  True  True  True  True  True  True False  True False\n",
      "  True False False  True  True False  True  True  True False False  True\n",
      "  True False  True False  True  True  True False  True False  True False\n",
      "  True  True  True  True  True  True False  True]\n"
     ]
    }
   ],
   "source": [
    "# then take the indices for all numbers < 0.70 as our training indices \n",
    "# afterwards, about 70% of all instances are in the training set\n",
    "train_indices = rand_numbers < 0.70\n",
    "print(train_indices)"
   ]
  },
  {
   "cell_type": "code",
   "execution_count": 8,
   "metadata": {},
   "outputs": [
    {
     "name": "stdout",
     "output_type": "stream",
     "text": [
      "(57, 1)\n",
      "(23, 1)\n"
     ]
    }
   ],
   "source": [
    "train_x = data_x[train_indices]\n",
    "train_y = data_y[train_indices]\n",
    "\n",
    "# the complementary part serves as preliminary test set \n",
    "test_x = data_x[~train_indices]\n",
    "test_y = data_y[~train_indices]\n",
    "\n",
    "print(train_x.shape)\n",
    "print(test_x.shape)"
   ]
  },
  {
   "attachments": {},
   "cell_type": "markdown",
   "metadata": {},
   "source": [
    "Now we should also split the preliminary test set into a *validation set* (for model selection) and a \"real\" *test set* to realistically estimate the error.  "
   ]
  },
  {
   "cell_type": "code",
   "execution_count": 9,
   "metadata": {},
   "outputs": [
    {
     "name": "stdout",
     "output_type": "stream",
     "text": [
      "[0.7239479  0.79302303 0.3515241  0.90965352 0.7128875  0.89724763\n",
      " 0.42020833 0.4675161  0.9039272  0.63354861 0.53282946 0.23751077\n",
      " 0.94650392 0.55943012 0.75735153 0.23614921 0.42975873 0.3941136\n",
      " 0.5107094  0.125403   0.68365311 0.02768972 0.23384292]\n"
     ]
    }
   ],
   "source": [
    "# Task a)\n",
    "\n",
    "## TODO Use half of the test set as validation set and update the test set.\n",
    "rand_numbers = np.random.rand(len(test_x))\n",
    "print(rand_numbers)\n"
   ]
  },
  {
   "cell_type": "code",
   "execution_count": 11,
   "metadata": {},
   "outputs": [
    {
     "name": "stdout",
     "output_type": "stream",
     "text": [
      "[False False  True False False False  True  True False False False  True\n",
      " False False False  True  True  True False  True False  True  True]\n"
     ]
    }
   ],
   "source": [
    "val_indices = rand_numbers < 0.50\n",
    "print(val_indices)"
   ]
  },
  {
   "cell_type": "code",
   "execution_count": 13,
   "metadata": {},
   "outputs": [
    {
     "name": "stdout",
     "output_type": "stream",
     "text": [
      "(10, 1)\n",
      "(13, 1)\n",
      "(10, 1)\n",
      "(13, 1)\n"
     ]
    }
   ],
   "source": [
    "val_x = test_x[val_indices]\n",
    "val_y = test_y[val_indices]\n",
    "test_x =test_x[~val_indices]\n",
    "test_y =test_y[~val_indices]\n",
    "print(val_x.shape)\n",
    "print(test_x.shape)\n",
    "print(val_x.shape)\n",
    "print(test_x.shape)"
   ]
  },
  {
   "attachments": {},
   "cell_type": "markdown",
   "metadata": {},
   "source": [
    "Let's first take only normal linear regression to have a starting point for the polynomial regression code:"
   ]
  },
  {
   "cell_type": "code",
   "execution_count": 14,
   "metadata": {},
   "outputs": [
    {
     "name": "stdout",
     "output_type": "stream",
     "text": [
      "w0: 0.6958543269865543 , w1: -0.11283745870969632\n"
     ]
    }
   ],
   "source": [
    "from sklearn.linear_model import LinearRegression\n",
    "\n",
    "reg = LinearRegression(fit_intercept=True)\n",
    "# performs linear regression on the inputs\n",
    "reg.fit(train_x, train_y)\n",
    "\n",
    "# if the resulting model is: y = w0 + w1 * x   then reg.intercept_ contains w0 and reg.coef_ contains w1 \n",
    "# (reg.coef_ contains an array for the dimensions we will get)\n",
    "w0, [w1] = reg.intercept_, reg.coef_\n",
    "print('w0:', w0, ', w1:', w1)"
   ]
  },
  {
   "cell_type": "code",
   "execution_count": 15,
   "metadata": {},
   "outputs": [
    {
     "data": {
      "text/plain": [
       "Text(0, 0.5, 'Target')"
      ]
     },
     "execution_count": 15,
     "metadata": {},
     "output_type": "execute_result"
    },
    {
     "data": {
      "image/png": "[encoded data removed]",
      "text/plain": [
       "<Figure size 640x480 with 1 Axes>"
      ]
     },
     "metadata": {},
     "output_type": "display_data"
    }
   ],
   "source": [
    "# let's plot the model in action\n",
    "def predict(x, w0, w1):\n",
    "    return w0 + w1 * x\n",
    "\n",
    "# plot data set and linear model\n",
    "plot_x = np.linspace(- x_max, x_max, 100)\n",
    "plot(train_x, train_y, 'x')\n",
    "plot(plot_x, predict(plot_x, w0, w1), 'r')\n",
    "title('Linear Model')\n",
    "xlabel('Input')\n",
    "ylabel('Target')"
   ]
  },
  {
   "attachments": {},
   "cell_type": "markdown",
   "metadata": {},
   "source": [
    "## Polynomial Regression with Basis Extension\n",
    "\n",
    "In order not to be able to perform \"only\" simple linear regression, we use the \"trick\" of the polynomial basic function extension. This means, instead of predicting based on $x$ only, we add $x^2$, $x^3$ etc. as new features.\n",
    "\n",
    "Starting from the case $x \\in \\mathbb{R}^1$ (thus a scalar) with the model \n",
    "$$ y = w_0 + w_1 \\cdot x $$\n",
    "\n",
    "we extend for the complexity $k>1$ (the degree of polynomial) on vectors \n",
    "$\\textbf{h}(x) = [x, x^2, \\ldots, x^k]^T \\in \\mathbb{R}^k$ \n",
    "\n",
    "and then receive a model \n",
    "$$ y = w_0 + w_1 \\cdot x_1 + \\ldots + w_k \\cdot x_k = w_0 + w_1 \\cdot x + \\ldots + x_k \\cdot x^k \n",
    "= \\textbf{w}^T \\textbf{h}(x) + w_0 $$\n",
    "\n",
    "with $k$ weights/ coefficients stored in $\\textbf{w}$ (and scalar bias $w_0$), which is linear in the new features. \n",
    "\n",
    "Now the question arises which $k$ is best for our dataset. "
   ]
  },
  {
   "cell_type": "code",
   "execution_count": 23,
   "metadata": {},
   "outputs": [
    {
     "name": "stdout",
     "output_type": "stream",
     "text": [
      "Model complexity (polynomial degree) k = 2\n",
      "Training error: 18.396706063213422\n",
      "Validation error: 21.819509667293836\n",
      "-----------------------------------------\n",
      "Model complexity (polynomial degree) k = 3\n",
      "Training error: 18.476424066159638\n",
      "Validation error: 21.89993978666121\n",
      "-----------------------------------------\n",
      "Model complexity (polynomial degree) k = 4\n",
      "Training error: 18.524824282234125\n",
      "Validation error: 21.951425890823224\n",
      "-----------------------------------------\n",
      "Model complexity (polynomial degree) k = 5\n",
      "Training error: 18.556597600551257\n",
      "Validation error: 21.985924287553495\n",
      "-----------------------------------------\n",
      "Model complexity (polynomial degree) k = 6\n",
      "Training error: 18.57891864137619\n",
      "Validation error: 22.010426024637454\n",
      "-----------------------------------------\n",
      "Model complexity (polynomial degree) k = 7\n",
      "Training error: 18.595420035572058\n",
      "Validation error: 22.028663333622543\n",
      "-----------------------------------------\n",
      "Model complexity (polynomial degree) k = 8\n",
      "Training error: 18.60810112459757\n",
      "Validation error: 22.042743852664152\n",
      "-----------------------------------------\n",
      "Model complexity (polynomial degree) k = 9\n",
      "Training error: 18.618144960286237\n",
      "Validation error: 22.053933908098173\n",
      "-----------------------------------------\n",
      "Model complexity (polynomial degree) k = 10\n",
      "Training error: 18.626293911698514\n",
      "Validation error: 22.063036233038435\n",
      "-----------------------------------------\n",
      "Model complexity (polynomial degree) k = 11\n",
      "Training error: 18.633036530035078\n",
      "Validation error: 22.070582948877526\n",
      "-----------------------------------------\n",
      "Model complexity (polynomial degree) k = 12\n",
      "Training error: 18.638707143585858\n",
      "Validation error: 22.076940188103904\n",
      "-----------------------------------------\n",
      "Model complexity (polynomial degree) k = 13\n",
      "Training error: 18.643542111220164\n",
      "Validation error: 22.082367894214137\n",
      "-----------------------------------------\n",
      "Model complexity (polynomial degree) k = 14\n",
      "Training error: 18.647713186192753\n",
      "Validation error: 22.087055601631942\n",
      "-----------------------------------------\n",
      "Model complexity (polynomial degree) k = 15\n",
      "Training error: 18.651348141195896\n",
      "Validation error: 22.09114470435546\n",
      "-----------------------------------------\n",
      "Model complexity (polynomial degree) k = 16\n",
      "Training error: 18.654543978992578\n",
      "Validation error: 22.094742796103677\n",
      "-----------------------------------------\n",
      "Model complexity (polynomial degree) k = 17\n",
      "Training error: 18.65737565762232\n",
      "Validation error: 22.0979331830019\n",
      "-----------------------------------------\n",
      "Model complexity (polynomial degree) k = 18\n",
      "Training error: 18.659902009448537\n",
      "Validation error: 22.10078136029322\n",
      "-----------------------------------------\n",
      "Model complexity (polynomial degree) k = 19\n",
      "Training error: 18.66216985220922\n",
      "Validation error: 22.103339524501113\n",
      "-----------------------------------------\n",
      "Model complexity (polynomial degree) k = 20\n",
      "Training error: 18.66421690452864\n",
      "Validation error: 22.105649781793108\n",
      "-----------------------------------------\n",
      "Model complexity (polynomial degree) k = 21\n",
      "Training error: 18.666073892410683\n",
      "Validation error: 22.107746471319796\n",
      "-----------------------------------------\n",
      "Model complexity (polynomial degree) k = 22\n",
      "Training error: 18.66776609684399\n",
      "Validation error: 22.109657875515012\n",
      "-----------------------------------------\n",
      "Model complexity (polynomial degree) k = 23\n",
      "Training error: 18.66931450807108\n",
      "Validation error: 22.111407497937513\n",
      "-----------------------------------------\n",
      "Model complexity (polynomial degree) k = 24\n",
      "Training error: 18.670736698341027\n",
      "Validation error: 22.11301503095671\n",
      "-----------------------------------------\n",
      "Model complexity (polynomial degree) k = 25\n",
      "Training error: 18.67204749007519\n",
      "Validation error: 22.114497097625016\n",
      "-----------------------------------------\n",
      "Model complexity (polynomial degree) k = 26\n",
      "Training error: 18.673259473265205\n",
      "Validation error: 22.11586782686782\n",
      "-----------------------------------------\n",
      "Model complexity (polynomial degree) k = 27\n",
      "Training error: 18.67438341033647\n",
      "Validation error: 22.117139304076968\n",
      "-----------------------------------------\n",
      "Model complexity (polynomial degree) k = 28\n",
      "Training error: 18.675428556021718\n",
      "Validation error: 22.11832192747961\n",
      "-----------------------------------------\n",
      "Best k: 2 with trainerror:18.396706063213422 and valerror:21.819509667293836\n"
     ]
    }
   ],
   "source": [
    "# Task b)\n",
    "\n",
    "# now we iterate over our complexity values k and train linear regression models with the polynomial\n",
    "# basis function expansions\n",
    "from sklearn.metrics import mean_squared_error\n",
    "best_k=0\n",
    "best_t_error= 50\n",
    "bets_v_error= 50\n",
    "for k in range(2, max_k + 20):\n",
    "    print(\"Model complexity (polynomial degree) k =\", k)\n",
    "    \n",
    "    ## TODO Perform basis function expansion on the training set.\n",
    "    expanded_train_x = train_x*k\n",
    "    \n",
    "    reg.fit(expanded_train_x, train_y)\n",
    "    y_val=reg.predict(val_x)\n",
    "    y_train=reg.predict(train_x)\n",
    "    ## TODO Calculate the loss (RMS error) on the training and validation set.\n",
    "    val_error=mean_squared_error(val_y,y_val)\n",
    "    train_error = mean_squared_error(train_y,y_train)\n",
    "    if train_error < best_t_error:\n",
    "        best_k=k\n",
    "        best_t_error= train_error\n",
    "        best_v_error= val_error\n",
    "    print(\"Training error:\", train_error)\n",
    "    print(\"Validation error:\", val_error)\n",
    "    print(\"-----------------------------------------\")\n",
    "print(f'Best k: {best_k} with trainerror:{best_t_error} and valerror:{best_v_error}')\n",
    "    "
   ]
  },
  {
   "attachments": {},
   "cell_type": "markdown",
   "metadata": {},
   "source": [
    "# b) Which polynomial degree fits best the given data? What happens if you set the maximum complexity even higher?\n",
    "k=2 fits the best. The error says almost the same given higher complexity."
   ]
  },
  {
   "attachments": {},
   "cell_type": "markdown",
   "metadata": {},
   "source": [
    "## Analyse of Generalization \n",
    "\n",
    "Now we output a so-called *learning curve*, i.e. a plot with the complexity $k$ on the x-axis/absciss as well as the training and validation errors on the y-axis/ ordinate."
   ]
  },
  {
   "cell_type": "code",
   "execution_count": 26,
   "metadata": {},
   "outputs": [
    {
     "name": "stdout",
     "output_type": "stream",
     "text": [
      "Validation error 6.498004905688615\n",
      "Test error (generalization error): 21.918967982518872\n"
     ]
    },
    {
     "data": {
      "image/png": "[encoded data removed]",
      "text/plain": [
       "<Figure size 640x480 with 1 Axes>"
      ]
     },
     "metadata": {},
     "output_type": "display_data"
    }
   ],
   "source": [
    "# Task c)\n",
    "\n",
    "## TODO Plot the learning curve. \n",
    "\n",
    "## TODO Determine the best model complexity for the given data points. \n",
    "from sklearn.preprocessing import PolynomialFeatures\n",
    "from sklearn.linear_model import LinearRegression\n",
    "from sklearn.metrics import mean_squared_error\n",
    "import matplotlib as plt\n",
    "train_errors = []\n",
    "val_errors=[]\n",
    "\n",
    "degrees = range(2,max_k+1)\n",
    "\n",
    "for degree in degrees:\n",
    "    polynomial_features = PolynomialFeatures(degree=degree)\n",
    "    train_x_poly = polynomial_features.fit_transform(train_x)\n",
    "    val_x_poly = polynomial_features.fit_transform(val_x)\n",
    "    \n",
    "    model = LinearRegression()\n",
    "    model.fit(train_x_poly,train_y)\n",
    "    \n",
    "    train_predictions = model.predict(train_x_poly)\n",
    "    val_predictions = model.predict(val_x_poly)\n",
    "    train_error = mean_squared_error(train_y,train_predictions)\n",
    "    val_error= mean_squared_error(val_y,val_predictions)\n",
    "    train_errors.append(train_error)\n",
    "    val_errors.append(val_error)\n",
    "\n",
    "plot(degrees, train_errors, label='Training error')\n",
    "plot(degrees, val_errors, label='Validation error')\n",
    "xlabel('Polynomial degree')\n",
    "ylabel('Mean squared error')\n",
    "title('Learning Curve')\n",
    "legend()\n",
    "\n",
    "best_degree = degrees[np.argmin(val_errors)]\n",
    "best_polynomial_features = PolynomialFeatures(degree=best_degree)\n",
    "X_train_poly_best= best_polynomial_features.fit_transform(train_x)\n",
    "X_test_poly= best_polynomial_features.transform(test_x)\n",
    "\n",
    "best_model = LinearRegression()\n",
    "best_model.fit(X_train_poly_best,y_train)\n",
    "\n",
    "test_predictions = best_model.predict(X_test_poly)\n",
    "test_error = mean_squared_error(test_y,test_predictions)\n",
    "\n",
    "validation_error = val_errors[np.argmin(val_errors)]\n",
    "print(\"Validation error\", validation_error)\n",
    "print(\"Test error (generalization error):\", test_error)"
   ]
  },
  {
   "attachments": {},
   "cell_type": "markdown",
   "metadata": {},
   "source": [
    "## Printing the Test Error\n",
    "Finally, we compare the error of the best model on the validation set with the final error on the test set (never used before)."
   ]
  },
  {
   "cell_type": "code",
   "execution_count": 12,
   "metadata": {},
   "outputs": [
    {
     "name": "stdout",
     "output_type": "stream",
     "text": [
      "Validation error: 0.0\n",
      "Test error: 0.0\n"
     ]
    }
   ],
   "source": [
    "# Task d)\n",
    "\n",
    "## TODO Calculate the loss for the best k on the validation and test set (=generalization error).\n",
    "best_k_val_error = 0.0\n",
    "best_k_test_error = 0.0\n",
    "\n",
    "print(\"Validation error:\", best_k_val_error)\n",
    "print(\"Test error:\", best_k_test_error)\n",
    "\n",
    "## TODO Compare the validation and test error. What do you find?"
   ]
  },
  {
   "cell_type": "code",
   "execution_count": null,
   "metadata": {},
   "outputs": [],
   "source": []
  }
 ],
 "metadata": {
  "kernelspec": {
   "display_name": "Python 3",
   "language": "python",
   "name": "python3"
  },
  "language_info": {
   "codemirror_mode": {
    "name": "ipython",
    "version": 3
   },
   "file_extension": ".py",
   "mimetype": "text/x-python",
   "name": "python",
   "nbconvert_exporter": "python",
   "pygments_lexer": "ipython3",
   "version": "3.10.11"
  }
 },
 "nbformat": 4,
 "nbformat_minor": 2
}
